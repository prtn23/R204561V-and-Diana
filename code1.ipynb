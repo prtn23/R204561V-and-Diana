{
 "cells": [
  {
   "cell_type": "code",
   "execution_count": null,
   "metadata": {},
   "outputs": [],
   "source": [
    "#BLESSING CHIPADZE R206540D \n",
    "#SAMUEL SINGENDE R204440W\n",
    "import cv2 \n",
    "vid_cap = cv2.VideoCapture('muna.mp4')\n",
    "success, image=vid_cap.read()\n",
    "count = 0\n",
    "while success:\n",
    "    cv2.imwrite('frame%d.jpg'%count, image)\n",
    "success, image=vid_cap.read()\n",
    "print('read a new frame: ', success)\n",
    "count+=1"
   ]
  },
  {
   "cell_type": "code",
   "execution_count": null,
   "metadata": {},
   "outputs": [],
   "source": [
    "import numpy as np\n",
    "import tensorflow as tf\n",
    "import os\n",
    "from tensorflow.keras import layers\n",
    "from tensorflow.keras import Model\n",
    "from os import getcwd"
   ]
  },
  {
   "cell_type": "code",
   "execution_count": null,
   "metadata": {},
   "outputs": [],
   "source": [
    "#Downloading the inceptionv3 model and its weights\n",
    "model = tf.keras.applications.inception_v3.InceptionV3(\n",
    "    include_top=True,\n",
    "    weights='imagenet',\n",
    "    input_tensor=None,\n",
    "    input_shape=None,\n",
    "    pooling=None,\n",
    "    classes=1000,\n",
    "    classifier_activation='softmax'\n",
    ")"
   ]
  },
  {
   "cell_type": "code",
   "execution_count": null,
   "metadata": {},
   "outputs": [],
   "source": [
    "#Testing the model on a single frame\n",
    "#Preprocessing\n",
    "\n",
    "fire = tf.io.read_file('frame10.jpg')\n",
    "fire= tf.io.decode_image(fire,channels=3)\n",
    "fire= tf.image.resize(fire,[299,299])\n",
    "fire = tf.expand_dims(fire, axis=0)\n",
    "fire = tf.keras.applications.inception_v3.preprocess_input(fire)"
   ]
  },
  {
   "cell_type": "code",
   "execution_count": null,
   "metadata": {},
   "outputs": [],
   "source": [
    "#Predicting and Decoding the Predictions\n",
    "predictions = tf.keras.applications.inception_v3.decode_predictions(model.predict(fire), top=1)"
   ]
  },
  {
   "cell_type": "code",
   "execution_count": null,
   "metadata": {},
   "outputs": [],
   "source": [
    "#Extracting the top prediction only\n",
    "for (i, (imagenetID, label, prob)) in enumerate(predictions[0]):\n",
    "    print(\"{}. {}: {:.2f}%\".format(i+1, label, prob*100))"
   ]
  },
  {
   "cell_type": "code",
   "execution_count": null,
   "metadata": {},
   "outputs": [],
   "source": [
    "for (i,(imagenetID, label, prob)) in enumerate(predictions[0]):\n",
    "    print(label.lower())"
   ]
  },
  {
   "cell_type": "code",
   "execution_count": null,
   "metadata": {
    "scrolled": true
   },
   "outputs": [],
   "source": [
    "model.save('killit.h5')\n",
    "    "
   ]
  },
  {
   "cell_type": "code",
   "execution_count": null,
   "metadata": {},
   "outputs": [],
   "source": []
  },
  {
   "cell_type": "code",
   "execution_count": null,
   "metadata": {},
   "outputs": [],
   "source": []
  }
 ],
 "metadata": {
  "kernelspec": {
   "display_name": "Python 3",
   "language": "python",
   "name": "python3"
  },
  "language_info": {
   "codemirror_mode": {
    "name": "ipython",
    "version": 3
   },
   "file_extension": ".py",
   "mimetype": "text/x-python",
   "name": "python",
   "nbconvert_exporter": "python",
   "pygments_lexer": "ipython3",
   "version": "3.8.8"
  }
 },
 "nbformat": 4,
 "nbformat_minor": 4
}
